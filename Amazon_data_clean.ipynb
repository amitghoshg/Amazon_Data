{
 "cells": [
  {
   "cell_type": "markdown",
   "id": "f8de9ee7",
   "metadata": {},
   "source": [
    "### 1> lmport libraries"
   ]
  },
  {
   "cell_type": "code",
   "execution_count": 1,
   "id": "3aecdfac",
   "metadata": {},
   "outputs": [],
   "source": [
    "# Import libraries\n",
    "import pandas as pd\n",
    "import numpy as np"
   ]
  },
  {
   "cell_type": "markdown",
   "id": "b041b722",
   "metadata": {},
   "source": [
    "### 2> Data Processing"
   ]
  },
  {
   "cell_type": "code",
   "execution_count": 2,
   "id": "631d6366",
   "metadata": {},
   "outputs": [],
   "source": [
    "# Import excel file\n",
    "df = pd.read_excel(r\"G:\\Job Prepartion\\My_Projects\\Python projects\\Amazon_Data\\Amazon_Laptops_Raw_Data.xlsx\")"
   ]
  },
  {
   "cell_type": "code",
   "execution_count": 3,
   "id": "ffdf43c8",
   "metadata": {},
   "outputs": [
    {
     "name": "stdout",
     "output_type": "stream",
     "text": [
      "<class 'pandas.core.frame.DataFrame'>\n",
      "RangeIndex: 220 entries, 0 to 219\n",
      "Data columns (total 3 columns):\n",
      " #   Column   Non-Null Count  Dtype \n",
      "---  ------   --------------  ----- \n",
      " 0   Names    220 non-null    object\n",
      " 1   Reviews  215 non-null    object\n",
      " 2   Price    220 non-null    int64 \n",
      "dtypes: int64(1), object(2)\n",
      "memory usage: 5.3+ KB\n"
     ]
    }
   ],
   "source": [
    "df.info()"
   ]
  },
  {
   "cell_type": "code",
   "execution_count": 4,
   "id": "47e55240",
   "metadata": {},
   "outputs": [
    {
     "data": {
      "text/html": [
       "<div>\n",
       "<style scoped>\n",
       "    .dataframe tbody tr th:only-of-type {\n",
       "        vertical-align: middle;\n",
       "    }\n",
       "\n",
       "    .dataframe tbody tr th {\n",
       "        vertical-align: top;\n",
       "    }\n",
       "\n",
       "    .dataframe thead th {\n",
       "        text-align: right;\n",
       "    }\n",
       "</style>\n",
       "<table border=\"1\" class=\"dataframe\">\n",
       "  <thead>\n",
       "    <tr style=\"text-align: right;\">\n",
       "      <th></th>\n",
       "      <th>Names</th>\n",
       "      <th>Reviews</th>\n",
       "      <th>Price</th>\n",
       "    </tr>\n",
       "  </thead>\n",
       "  <tbody>\n",
       "    <tr>\n",
       "      <th>0</th>\n",
       "      <td>Apple 2025 MacBook Air (13-inch, Apple M4 chip...</td>\n",
       "      <td>4.2 out of 5 stars</td>\n",
       "      <td>99900</td>\n",
       "    </tr>\n",
       "    <tr>\n",
       "      <th>1</th>\n",
       "      <td>Apple 2024 MacBook Air (13-inch, Apple M3 chip...</td>\n",
       "      <td>4.7 out of 5 stars</td>\n",
       "      <td>98990</td>\n",
       "    </tr>\n",
       "    <tr>\n",
       "      <th>2</th>\n",
       "      <td>Lenovo IdeaPad Slim 3, Intel Core i5-12450H, 1...</td>\n",
       "      <td>3.9 out of 5 stars</td>\n",
       "      <td>49990</td>\n",
       "    </tr>\n",
       "    <tr>\n",
       "      <th>3</th>\n",
       "      <td>ASUS TUF Gaming A15, 15.6\" (39.62cm) FHD 16:9 ...</td>\n",
       "      <td>3.9 out of 5 stars</td>\n",
       "      <td>58990</td>\n",
       "    </tr>\n",
       "    <tr>\n",
       "      <th>4</th>\n",
       "      <td>Lenovo V15 AMD Ryzen 3 7320U 15.6\" (39.62cm) F...</td>\n",
       "      <td>3.0 out of 5 stars</td>\n",
       "      <td>25990</td>\n",
       "    </tr>\n",
       "  </tbody>\n",
       "</table>\n",
       "</div>"
      ],
      "text/plain": [
       "                                               Names             Reviews  \\\n",
       "0  Apple 2025 MacBook Air (13-inch, Apple M4 chip...  4.2 out of 5 stars   \n",
       "1  Apple 2024 MacBook Air (13-inch, Apple M3 chip...  4.7 out of 5 stars   \n",
       "2  Lenovo IdeaPad Slim 3, Intel Core i5-12450H, 1...  3.9 out of 5 stars   \n",
       "3  ASUS TUF Gaming A15, 15.6\" (39.62cm) FHD 16:9 ...  3.9 out of 5 stars   \n",
       "4  Lenovo V15 AMD Ryzen 3 7320U 15.6\" (39.62cm) F...  3.0 out of 5 stars   \n",
       "\n",
       "   Price  \n",
       "0  99900  \n",
       "1  98990  \n",
       "2  49990  \n",
       "3  58990  \n",
       "4  25990  "
      ]
     },
     "execution_count": 4,
     "metadata": {},
     "output_type": "execute_result"
    }
   ],
   "source": [
    "df.head()"
   ]
  },
  {
   "cell_type": "code",
   "execution_count": 5,
   "id": "5ecffc00",
   "metadata": {},
   "outputs": [
    {
     "data": {
      "text/plain": [
       "Index(['Names', 'Reviews', 'Price'], dtype='object')"
      ]
     },
     "execution_count": 5,
     "metadata": {},
     "output_type": "execute_result"
    }
   ],
   "source": [
    "df.columns"
   ]
  },
  {
   "cell_type": "code",
   "execution_count": 6,
   "id": "b31eb05a",
   "metadata": {},
   "outputs": [],
   "source": [
    "# Create new column \"Brand\" and extracting data from 'Names' column\n",
    "df['Brand'] = df['Names'].str.split().str[0]"
   ]
  },
  {
   "cell_type": "code",
   "execution_count": 7,
   "id": "860d8bb2",
   "metadata": {},
   "outputs": [],
   "source": [
    "# Create new column 'Processor'\n",
    "import re\n",
    "\n",
    "def extract_processor(text):\n",
    "    match = re.search(r\"(Apple M\\d|Ryzen \\d \\d{4}[A-Z]*)\", text)\n",
    "    return match.group(0) if match else \"Unknown\"\n",
    "\n",
    "df['Processor'] = df['Names'].apply(extract_processor)\n"
   ]
  },
  {
   "cell_type": "code",
   "execution_count": 8,
   "id": "acfb76d3",
   "metadata": {},
   "outputs": [],
   "source": [
    "# Create new column 'Storage'\n",
    "def extract_storage(text):\n",
    "    match = re.search(r\"(\\d{3,4}GB|1TB)\", text)\n",
    "    return match.group(0) if match else \"Unknown\"\n",
    "\n",
    "df['Storage'] = df['Names'].apply(extract_storage)"
   ]
  },
  {
   "cell_type": "code",
   "execution_count": 9,
   "id": "122911cd",
   "metadata": {},
   "outputs": [],
   "source": [
    "# Create new column 'Ram'\n",
    "def extract_ram(text):\n",
    "    match = re.search(r\"(\\d{1,2}GB)\", text)\n",
    "    return match.group(0) if match else \"Unknown\"\n",
    "\n",
    "df['Ram'] = df['Names'].apply(extract_ram)\n"
   ]
  },
  {
   "cell_type": "markdown",
   "id": "bb5e4a18",
   "metadata": {},
   "source": [
    "### 3>  Data Cleaning"
   ]
  },
  {
   "cell_type": "code",
   "execution_count": 10,
   "id": "7f6c4284",
   "metadata": {},
   "outputs": [
    {
     "data": {
      "text/plain": [
       "Names        0\n",
       "Reviews      5\n",
       "Price        0\n",
       "Brand        0\n",
       "Processor    0\n",
       "Storage      0\n",
       "Ram          0\n",
       "dtype: int64"
      ]
     },
     "execution_count": 10,
     "metadata": {},
     "output_type": "execute_result"
    }
   ],
   "source": [
    "# Check null values\n",
    "df.isnull().sum()"
   ]
  },
  {
   "cell_type": "code",
   "execution_count": 11,
   "id": "d9035ca0",
   "metadata": {},
   "outputs": [],
   "source": [
    "# Change two column name \n",
    "df.rename(columns={'Storage': 'Storage_GB'}, inplace=True)\n",
    "df.rename(columns={'Ram': 'Ram_GB'}, inplace=True)"
   ]
  },
  {
   "cell_type": "code",
   "execution_count": 12,
   "id": "7b51f3bd",
   "metadata": {},
   "outputs": [
    {
     "data": {
      "text/html": [
       "<div>\n",
       "<style scoped>\n",
       "    .dataframe tbody tr th:only-of-type {\n",
       "        vertical-align: middle;\n",
       "    }\n",
       "\n",
       "    .dataframe tbody tr th {\n",
       "        vertical-align: top;\n",
       "    }\n",
       "\n",
       "    .dataframe thead th {\n",
       "        text-align: right;\n",
       "    }\n",
       "</style>\n",
       "<table border=\"1\" class=\"dataframe\">\n",
       "  <thead>\n",
       "    <tr style=\"text-align: right;\">\n",
       "      <th></th>\n",
       "      <th>Names</th>\n",
       "      <th>Reviews</th>\n",
       "      <th>Price</th>\n",
       "      <th>Brand</th>\n",
       "      <th>Processor</th>\n",
       "      <th>Storage_GB</th>\n",
       "      <th>Ram_GB</th>\n",
       "    </tr>\n",
       "  </thead>\n",
       "  <tbody>\n",
       "    <tr>\n",
       "      <th>0</th>\n",
       "      <td>Apple 2025 MacBook Air (13-inch, Apple M4 chip...</td>\n",
       "      <td>4.2 out of 5 stars</td>\n",
       "      <td>99900</td>\n",
       "      <td>Apple</td>\n",
       "      <td>Apple M4</td>\n",
       "      <td>256GB</td>\n",
       "      <td>16GB</td>\n",
       "    </tr>\n",
       "    <tr>\n",
       "      <th>1</th>\n",
       "      <td>Apple 2024 MacBook Air (13-inch, Apple M3 chip...</td>\n",
       "      <td>4.7 out of 5 stars</td>\n",
       "      <td>98990</td>\n",
       "      <td>Apple</td>\n",
       "      <td>Apple M3</td>\n",
       "      <td>256GB</td>\n",
       "      <td>16GB</td>\n",
       "    </tr>\n",
       "    <tr>\n",
       "      <th>2</th>\n",
       "      <td>Lenovo IdeaPad Slim 3, Intel Core i5-12450H, 1...</td>\n",
       "      <td>3.9 out of 5 stars</td>\n",
       "      <td>49990</td>\n",
       "      <td>Lenovo</td>\n",
       "      <td>Unknown</td>\n",
       "      <td>512GB</td>\n",
       "      <td>16GB</td>\n",
       "    </tr>\n",
       "    <tr>\n",
       "      <th>3</th>\n",
       "      <td>ASUS TUF Gaming A15, 15.6\" (39.62cm) FHD 16:9 ...</td>\n",
       "      <td>3.9 out of 5 stars</td>\n",
       "      <td>58990</td>\n",
       "      <td>ASUS</td>\n",
       "      <td>Ryzen 7 7435HS</td>\n",
       "      <td>512GB</td>\n",
       "      <td>12GB</td>\n",
       "    </tr>\n",
       "    <tr>\n",
       "      <th>4</th>\n",
       "      <td>Lenovo V15 AMD Ryzen 3 7320U 15.6\" (39.62cm) F...</td>\n",
       "      <td>3.0 out of 5 stars</td>\n",
       "      <td>25990</td>\n",
       "      <td>Lenovo</td>\n",
       "      <td>Ryzen 3 7320U</td>\n",
       "      <td>512GB</td>\n",
       "      <td>8GB</td>\n",
       "    </tr>\n",
       "    <tr>\n",
       "      <th>...</th>\n",
       "      <td>...</td>\n",
       "      <td>...</td>\n",
       "      <td>...</td>\n",
       "      <td>...</td>\n",
       "      <td>...</td>\n",
       "      <td>...</td>\n",
       "      <td>...</td>\n",
       "    </tr>\n",
       "    <tr>\n",
       "      <th>215</th>\n",
       "      <td>Tabelito Laptop Sleeve Bag 13\" to 15.6 inch fo...</td>\n",
       "      <td>4.5 out of 5 stars</td>\n",
       "      <td>499</td>\n",
       "      <td>Tabelito</td>\n",
       "      <td>Unknown</td>\n",
       "      <td>Unknown</td>\n",
       "      <td>Unknown</td>\n",
       "    </tr>\n",
       "    <tr>\n",
       "      <th>216</th>\n",
       "      <td>Arctic Fox Pureview Transparent Wireless and B...</td>\n",
       "      <td>4.3 out of 5 stars</td>\n",
       "      <td>649</td>\n",
       "      <td>Arctic</td>\n",
       "      <td>Unknown</td>\n",
       "      <td>Unknown</td>\n",
       "      <td>Unknown</td>\n",
       "    </tr>\n",
       "    <tr>\n",
       "      <th>217</th>\n",
       "      <td>Kreo Tundra 5 Fans RGB Laptop Cooling Pad with...</td>\n",
       "      <td>4.2 out of 5 stars</td>\n",
       "      <td>1999</td>\n",
       "      <td>Kreo</td>\n",
       "      <td>Unknown</td>\n",
       "      <td>Unknown</td>\n",
       "      <td>Unknown</td>\n",
       "    </tr>\n",
       "    <tr>\n",
       "      <th>218</th>\n",
       "      <td>Dell Vostro 15 3520 Laptop - 15.6 inch (39.62c...</td>\n",
       "      <td>3.8 out of 5 stars</td>\n",
       "      <td>48490</td>\n",
       "      <td>Dell</td>\n",
       "      <td>Unknown</td>\n",
       "      <td>Unknown</td>\n",
       "      <td>Unknown</td>\n",
       "    </tr>\n",
       "    <tr>\n",
       "      <th>219</th>\n",
       "      <td>Acer ALG Intel Core i5-13th Gen 13420H Process...</td>\n",
       "      <td>4.0 out of 5 stars</td>\n",
       "      <td>67999</td>\n",
       "      <td>Acer</td>\n",
       "      <td>Unknown</td>\n",
       "      <td>Unknown</td>\n",
       "      <td>6GB</td>\n",
       "    </tr>\n",
       "  </tbody>\n",
       "</table>\n",
       "<p>220 rows × 7 columns</p>\n",
       "</div>"
      ],
      "text/plain": [
       "                                                 Names             Reviews  \\\n",
       "0    Apple 2025 MacBook Air (13-inch, Apple M4 chip...  4.2 out of 5 stars   \n",
       "1    Apple 2024 MacBook Air (13-inch, Apple M3 chip...  4.7 out of 5 stars   \n",
       "2    Lenovo IdeaPad Slim 3, Intel Core i5-12450H, 1...  3.9 out of 5 stars   \n",
       "3    ASUS TUF Gaming A15, 15.6\" (39.62cm) FHD 16:9 ...  3.9 out of 5 stars   \n",
       "4    Lenovo V15 AMD Ryzen 3 7320U 15.6\" (39.62cm) F...  3.0 out of 5 stars   \n",
       "..                                                 ...                 ...   \n",
       "215  Tabelito Laptop Sleeve Bag 13\" to 15.6 inch fo...  4.5 out of 5 stars   \n",
       "216  Arctic Fox Pureview Transparent Wireless and B...  4.3 out of 5 stars   \n",
       "217  Kreo Tundra 5 Fans RGB Laptop Cooling Pad with...  4.2 out of 5 stars   \n",
       "218  Dell Vostro 15 3520 Laptop - 15.6 inch (39.62c...  3.8 out of 5 stars   \n",
       "219  Acer ALG Intel Core i5-13th Gen 13420H Process...  4.0 out of 5 stars   \n",
       "\n",
       "     Price     Brand       Processor Storage_GB   Ram_GB  \n",
       "0    99900     Apple        Apple M4      256GB     16GB  \n",
       "1    98990     Apple        Apple M3      256GB     16GB  \n",
       "2    49990    Lenovo         Unknown      512GB     16GB  \n",
       "3    58990      ASUS  Ryzen 7 7435HS      512GB     12GB  \n",
       "4    25990    Lenovo   Ryzen 3 7320U      512GB      8GB  \n",
       "..     ...       ...             ...        ...      ...  \n",
       "215    499  Tabelito         Unknown    Unknown  Unknown  \n",
       "216    649    Arctic         Unknown    Unknown  Unknown  \n",
       "217   1999      Kreo         Unknown    Unknown  Unknown  \n",
       "218  48490      Dell         Unknown    Unknown  Unknown  \n",
       "219  67999      Acer         Unknown    Unknown      6GB  \n",
       "\n",
       "[220 rows x 7 columns]"
      ]
     },
     "execution_count": 12,
     "metadata": {},
     "output_type": "execute_result"
    }
   ],
   "source": [
    "df"
   ]
  },
  {
   "cell_type": "code",
   "execution_count": 13,
   "id": "b6e1de51",
   "metadata": {},
   "outputs": [],
   "source": [
    "# Replace  'GB' and 'Unknown' word from column \"Ram_GB\" \n",
    "df.loc[:, 'Ram_GB'] = df['Ram_GB'].str.replace('GB', '', regex=False)\n",
    "df.loc[:, 'Ram_GB'] = df['Ram_GB'].str.replace('Unknown', '0', regex=False)"
   ]
  },
  {
   "cell_type": "code",
   "execution_count": 14,
   "id": "52cdecc0",
   "metadata": {},
   "outputs": [],
   "source": [
    "# Replace 'TB', 'GB' and 'Unknown' word from column \"Storage\"\n",
    "df.loc[:, 'Storage_GB'] = df['Storage_GB'].str.replace('GB', '', regex=False)\n",
    "df.loc[:, 'Storage_GB'] = df['Storage_GB'].str.replace('TB', '', regex=False)\n",
    "df.loc[:, 'Storage_GB'] = df['Storage_GB'].str.replace('Unknown', '0', regex=False)"
   ]
  },
  {
   "cell_type": "code",
   "execution_count": 15,
   "id": "88521373",
   "metadata": {},
   "outputs": [],
   "source": [
    "cols_to_convert = ['Storage_GB', 'Ram_GB']\n",
    "\n",
    "for col in cols_to_convert:\n",
    "    # Replace non-numeric characters and extract numbers only\n",
    "    df[col] = df[col].astype(str).str.replace(r'\\D', '', regex=True)  # \\D removes all non-digits\n",
    "    df[col] = pd.to_numeric(df[col], errors='coerce').fillna(0).astype(int)  # Coerce to numeric and replace NaN with 0"
   ]
  },
  {
   "cell_type": "code",
   "execution_count": 16,
   "id": "bef3ed41",
   "metadata": {},
   "outputs": [
    {
     "data": {
      "text/plain": [
       "Storage_GB    int64\n",
       "Storage_GB    int64\n",
       "dtype: object"
      ]
     },
     "execution_count": 16,
     "metadata": {},
     "output_type": "execute_result"
    }
   ],
   "source": [
    "df[['Storage_GB','Storage_GB']].dtypes"
   ]
  },
  {
   "cell_type": "code",
   "execution_count": 17,
   "id": "9ac68533",
   "metadata": {},
   "outputs": [],
   "source": [
    "# df['Storage_GB'].unique()\n",
    "# df['Ram_GB'].unique()"
   ]
  },
  {
   "cell_type": "code",
   "execution_count": 18,
   "id": "d9aa3e8c",
   "metadata": {},
   "outputs": [
    {
     "name": "stdout",
     "output_type": "stream",
     "text": [
      "194.38181818181818\n"
     ]
    }
   ],
   "source": [
    "average = df[\"Storage_GB\"].mean()\n",
    "print(average)"
   ]
  },
  {
   "cell_type": "code",
   "execution_count": 19,
   "id": "ac634d25",
   "metadata": {},
   "outputs": [],
   "source": [
    "# Fill all the missing values from \"Reviews\" with 0\n",
    "df['Reviews'] = df['Reviews'].fillna(0)"
   ]
  },
  {
   "cell_type": "code",
   "execution_count": 20,
   "id": "1922673f",
   "metadata": {},
   "outputs": [],
   "source": [
    "# Change the data type of 'Review' column and replace unnecessary text\n",
    "df[\"Reviews\"] = df['Reviews'].str.replace(\" out of 5 stars\", \"\").astype(float)"
   ]
  },
  {
   "cell_type": "code",
   "execution_count": 21,
   "id": "ef7e931d",
   "metadata": {},
   "outputs": [],
   "source": [
    "# Remove all the rows where 'price' is >10,000\n",
    "df = df[df['Price'] >= 10000]"
   ]
  },
  {
   "cell_type": "code",
   "execution_count": 22,
   "id": "82b8dcab",
   "metadata": {},
   "outputs": [],
   "source": [
    "df.to_csv(r\"G:\\Job Prepartion\\My_Projects\\Python projects\\Amazon_Data\\Amazon_Laptops_cleaned_data.csv\", index=False)"
   ]
  },
  {
   "cell_type": "code",
   "execution_count": null,
   "id": "1272c5e9",
   "metadata": {},
   "outputs": [],
   "source": []
  }
 ],
 "metadata": {
  "kernelspec": {
   "display_name": "Python 3",
   "language": "python",
   "name": "python3"
  },
  "language_info": {
   "codemirror_mode": {
    "name": "ipython",
    "version": 3
   },
   "file_extension": ".py",
   "mimetype": "text/x-python",
   "name": "python",
   "nbconvert_exporter": "python",
   "pygments_lexer": "ipython3",
   "version": "3.13.2"
  }
 },
 "nbformat": 4,
 "nbformat_minor": 5
}
