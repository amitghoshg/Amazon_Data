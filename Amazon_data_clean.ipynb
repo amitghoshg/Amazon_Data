{
 "cells": [
  {
   "cell_type": "markdown",
   "id": "f8de9ee7",
   "metadata": {},
   "source": [
    "### lmport libraries"
   ]
  },
  {
   "cell_type": "code",
   "execution_count": 1,
   "id": "3aecdfac",
   "metadata": {},
   "outputs": [],
   "source": [
    "# Import libraries\n",
    "import pandas as pd"
   ]
  },
  {
   "cell_type": "markdown",
   "id": "b041b722",
   "metadata": {},
   "source": [
    "### Data Processing"
   ]
  },
  {
   "cell_type": "code",
   "execution_count": 2,
   "id": "631d6366",
   "metadata": {},
   "outputs": [
    {
     "name": "stderr",
     "output_type": "stream",
     "text": [
      "<>:2: SyntaxWarning: invalid escape sequence '\\J'\n",
      "<>:2: SyntaxWarning: invalid escape sequence '\\J'\n",
      "C:\\Users\\amit5\\AppData\\Local\\Temp\\ipykernel_21252\\3561765938.py:2: SyntaxWarning: invalid escape sequence '\\J'\n",
      "  df = pd.read_excel(\"G:\\Job Prepartion\\My_Projects\\Python projects\\Amazon_Data\\Amazon_Laptops_Raw_Data.xlsx\")\n"
     ]
    }
   ],
   "source": [
    "# Import excel file\n",
    "df = pd.read_excel(\"G:\\Job Prepartion\\My_Projects\\Python projects\\Amazon_Data\\Amazon_Laptops_Raw_Data.xlsx\")"
   ]
  },
  {
   "cell_type": "code",
   "execution_count": 3,
   "id": "ffdf43c8",
   "metadata": {},
   "outputs": [
    {
     "name": "stdout",
     "output_type": "stream",
     "text": [
      "<class 'pandas.core.frame.DataFrame'>\n",
      "RangeIndex: 220 entries, 0 to 219\n",
      "Data columns (total 3 columns):\n",
      " #   Column   Non-Null Count  Dtype \n",
      "---  ------   --------------  ----- \n",
      " 0   Names    220 non-null    object\n",
      " 1   Reviews  215 non-null    object\n",
      " 2   Price    220 non-null    int64 \n",
      "dtypes: int64(1), object(2)\n",
      "memory usage: 5.3+ KB\n"
     ]
    }
   ],
   "source": [
    "df.info()"
   ]
  },
  {
   "cell_type": "code",
   "execution_count": 4,
   "id": "47e55240",
   "metadata": {},
   "outputs": [
    {
     "data": {
      "text/html": [
       "<div>\n",
       "<style scoped>\n",
       "    .dataframe tbody tr th:only-of-type {\n",
       "        vertical-align: middle;\n",
       "    }\n",
       "\n",
       "    .dataframe tbody tr th {\n",
       "        vertical-align: top;\n",
       "    }\n",
       "\n",
       "    .dataframe thead th {\n",
       "        text-align: right;\n",
       "    }\n",
       "</style>\n",
       "<table border=\"1\" class=\"dataframe\">\n",
       "  <thead>\n",
       "    <tr style=\"text-align: right;\">\n",
       "      <th></th>\n",
       "      <th>Names</th>\n",
       "      <th>Reviews</th>\n",
       "      <th>Price</th>\n",
       "    </tr>\n",
       "  </thead>\n",
       "  <tbody>\n",
       "    <tr>\n",
       "      <th>0</th>\n",
       "      <td>Apple 2025 MacBook Air (13-inch, Apple M4 chip...</td>\n",
       "      <td>4.2 out of 5 stars</td>\n",
       "      <td>99900</td>\n",
       "    </tr>\n",
       "    <tr>\n",
       "      <th>1</th>\n",
       "      <td>Apple 2024 MacBook Air (13-inch, Apple M3 chip...</td>\n",
       "      <td>4.7 out of 5 stars</td>\n",
       "      <td>98990</td>\n",
       "    </tr>\n",
       "    <tr>\n",
       "      <th>2</th>\n",
       "      <td>Lenovo IdeaPad Slim 3, Intel Core i5-12450H, 1...</td>\n",
       "      <td>3.9 out of 5 stars</td>\n",
       "      <td>49990</td>\n",
       "    </tr>\n",
       "    <tr>\n",
       "      <th>3</th>\n",
       "      <td>ASUS TUF Gaming A15, 15.6\" (39.62cm) FHD 16:9 ...</td>\n",
       "      <td>3.9 out of 5 stars</td>\n",
       "      <td>58990</td>\n",
       "    </tr>\n",
       "    <tr>\n",
       "      <th>4</th>\n",
       "      <td>Lenovo V15 AMD Ryzen 3 7320U 15.6\" (39.62cm) F...</td>\n",
       "      <td>3.0 out of 5 stars</td>\n",
       "      <td>25990</td>\n",
       "    </tr>\n",
       "  </tbody>\n",
       "</table>\n",
       "</div>"
      ],
      "text/plain": [
       "                                               Names             Reviews  \\\n",
       "0  Apple 2025 MacBook Air (13-inch, Apple M4 chip...  4.2 out of 5 stars   \n",
       "1  Apple 2024 MacBook Air (13-inch, Apple M3 chip...  4.7 out of 5 stars   \n",
       "2  Lenovo IdeaPad Slim 3, Intel Core i5-12450H, 1...  3.9 out of 5 stars   \n",
       "3  ASUS TUF Gaming A15, 15.6\" (39.62cm) FHD 16:9 ...  3.9 out of 5 stars   \n",
       "4  Lenovo V15 AMD Ryzen 3 7320U 15.6\" (39.62cm) F...  3.0 out of 5 stars   \n",
       "\n",
       "   Price  \n",
       "0  99900  \n",
       "1  98990  \n",
       "2  49990  \n",
       "3  58990  \n",
       "4  25990  "
      ]
     },
     "execution_count": 4,
     "metadata": {},
     "output_type": "execute_result"
    }
   ],
   "source": [
    "df.head()"
   ]
  },
  {
   "cell_type": "code",
   "execution_count": 5,
   "id": "5ecffc00",
   "metadata": {},
   "outputs": [
    {
     "data": {
      "text/plain": [
       "Index(['Names', 'Reviews', 'Price'], dtype='object')"
      ]
     },
     "execution_count": 5,
     "metadata": {},
     "output_type": "execute_result"
    }
   ],
   "source": [
    "df.columns"
   ]
  },
  {
   "cell_type": "code",
   "execution_count": 6,
   "id": "b31eb05a",
   "metadata": {},
   "outputs": [],
   "source": [
    "# Create new column \"Brand\" and extracting data from 'Names' column\n",
    "df['Brand'] = df['Names'].str.split().str[0]"
   ]
  },
  {
   "cell_type": "code",
   "execution_count": 7,
   "id": "860d8bb2",
   "metadata": {},
   "outputs": [],
   "source": [
    "# Create new column 'Processor'\n",
    "import re\n",
    "\n",
    "def extract_processor(text):\n",
    "    match = re.search(r\"(Apple M\\d|Ryzen \\d \\d{4}[A-Z]*)\", text)\n",
    "    return match.group(0) if match else \"Unknown\"\n",
    "\n",
    "df['Processor'] = df['Names'].apply(extract_processor)\n"
   ]
  },
  {
   "cell_type": "code",
   "execution_count": 8,
   "id": "acfb76d3",
   "metadata": {},
   "outputs": [],
   "source": [
    "# Create new column 'Storage'\n",
    "def extract_storage(text):\n",
    "    match = re.search(r\"(\\d{3,4}GB|1TB)\", text)\n",
    "    return match.group(0) if match else \"Unknown\"\n",
    "\n",
    "df['Storage'] = df['Names'].apply(extract_storage)"
   ]
  },
  {
   "cell_type": "code",
   "execution_count": 9,
   "id": "122911cd",
   "metadata": {},
   "outputs": [],
   "source": [
    "# Create new column 'Ram'\n",
    "def extract_ram(text):\n",
    "    match = re.search(r\"(\\d{1,2}GB)\", text)\n",
    "    return match.group(0) if match else \"Unknown\"\n",
    "\n",
    "df['Ram'] = df['Names'].apply(extract_ram)\n"
   ]
  },
  {
   "cell_type": "markdown",
   "id": "bb5e4a18",
   "metadata": {},
   "source": [
    "### Data Cleaning"
   ]
  },
  {
   "cell_type": "code",
   "execution_count": 10,
   "id": "7f6c4284",
   "metadata": {},
   "outputs": [
    {
     "data": {
      "text/plain": [
       "Names        0\n",
       "Reviews      5\n",
       "Price        0\n",
       "Brand        0\n",
       "Processor    0\n",
       "Storage      0\n",
       "Ram          0\n",
       "dtype: int64"
      ]
     },
     "execution_count": 10,
     "metadata": {},
     "output_type": "execute_result"
    }
   ],
   "source": [
    "# Check null values\n",
    "df.isnull().sum()"
   ]
  },
  {
   "cell_type": "code",
   "execution_count": 11,
   "id": "ac634d25",
   "metadata": {},
   "outputs": [],
   "source": [
    "#  Fill all the null values of \"Reviews\" column with \"0\"\n",
    "df['Reviews'] = df['Reviews'].fillna(0)"
   ]
  },
  {
   "cell_type": "code",
   "execution_count": 12,
   "id": "1922673f",
   "metadata": {},
   "outputs": [],
   "source": [
    "# Change the data type of 'Review' column and replace unnecessary text\n",
    "df[\"Reviews\"] = df['Reviews'].str.replace(\" out of 5 stars\", \"\").astype(float)"
   ]
  },
  {
   "cell_type": "code",
   "execution_count": 13,
   "id": "ef7e931d",
   "metadata": {},
   "outputs": [],
   "source": [
    "# Remove all the rows where 'price' is >10,000\n",
    "df = df[df['Price'] >= 10000]"
   ]
  },
  {
   "cell_type": "code",
   "execution_count": 14,
   "id": "82b8dcab",
   "metadata": {},
   "outputs": [
    {
     "name": "stderr",
     "output_type": "stream",
     "text": [
      "<>:1: SyntaxWarning: invalid escape sequence '\\A'\n",
      "<>:1: SyntaxWarning: invalid escape sequence '\\A'\n",
      "C:\\Users\\amit5\\AppData\\Local\\Temp\\ipykernel_21252\\204628050.py:1: SyntaxWarning: invalid escape sequence '\\A'\n",
      "  df.to_excel(\"G:\\Amazon_Laptops_cleaned_data.xlsx\", index=False)\n"
     ]
    }
   ],
   "source": [
    "df.to_excel(\"G:\\Amazon_Laptops_cleaned_data.xlsx\", index=False)"
   ]
  },
  {
   "cell_type": "code",
   "execution_count": null,
   "id": "94121782",
   "metadata": {},
   "outputs": [],
   "source": []
  }
 ],
 "metadata": {
  "kernelspec": {
   "display_name": "Python 3",
   "language": "python",
   "name": "python3"
  },
  "language_info": {
   "codemirror_mode": {
    "name": "ipython",
    "version": 3
   },
   "file_extension": ".py",
   "mimetype": "text/x-python",
   "name": "python",
   "nbconvert_exporter": "python",
   "pygments_lexer": "ipython3",
   "version": "3.13.2"
  }
 },
 "nbformat": 4,
 "nbformat_minor": 5
}
